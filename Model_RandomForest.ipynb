{
 "cells": [
  {
   "cell_type": "code",
   "execution_count": null,
   "id": "cc58e7a9",
   "metadata": {},
   "outputs": [],
   "source": [
    "import warnings\n",
    "warnings.simplefilter(action='ignore', category=FutureWarning)\n",
    "\n",
    "import pandas as pd\n",
    "import numpy as np\n",
    "from sklearn.model_selection import train_test_split\n",
    "from sklearn.metrics import mean_absolute_error, r2_score, mean_squared_error\n",
    "from sklearn.ensemble import RandomForestRegressor\n",
    "from dotenv import load_dotenv\n",
    "import os\n",
    "\n",
    "\n",
    "pd.set_option('display.width', 1000)\n",
    "pd.set_option('display.max_rows', 500)\n",
    "pd.set_option('display.max_columns', 500)"
   ]
  },
  {
   "cell_type": "code",
   "execution_count": null,
   "id": "21a37460",
   "metadata": {},
   "outputs": [],
   "source": [
    "def read_data(path):\n",
    "    return pd.read_csv(path)\n",
    "\n",
    "data_path = os.getenv(\"TRAINING_DATA\")\n",
    "df = read_data(data_path)"
   ]
  },
  {
   "cell_type": "code",
   "execution_count": 12,
   "id": "247c0b22",
   "metadata": {},
   "outputs": [
    {
     "data": {
      "text/plain": [
       "((154851, 31), (38713, 31), (154851,), (38713,))"
      ]
     },
     "execution_count": 12,
     "metadata": {},
     "output_type": "execute_result"
    }
   ],
   "source": [
    "\"\"\"\n",
    "Split the dataset into features and target, then divide it into training and testing sets.\n",
    "\n",
    "- X: feature matrix (all columns except the target)\n",
    "- y: target variable ('HATSURESI')\n",
    "- 90% of the data is used for training, 10% for testing\n",
    "- The random_state ensures reproducible results\n",
    "\"\"\"\n",
    "\n",
    "# Separate features (X) and target variable (y)\n",
    "X = df.drop([\"HATSURESI\",\"Unnamed: 0\", \"Unnamed: 0.1\"], axis=1)  # Drop target column to create feature set\n",
    "y = df[\"HATSURESI\"]                 # Target variable to predict\n",
    "\n",
    "# Split the data into training and testing sets\n",
    "X_train, X_test, y_train, y_test = train_test_split(X, y, test_size=0.2, random_state=42)\n",
    "\n",
    "# Display the shape of the resulting splits\n",
    "X_train.shape, X_test.shape, y_train.shape, y_test.shape"
   ]
  },
  {
   "cell_type": "code",
   "execution_count": 13,
   "id": "979743ad",
   "metadata": {},
   "outputs": [
    {
     "name": "stdout",
     "output_type": "stream",
     "text": [
      "\n",
      "🌲 Random Forest Results:\n",
      "R² Score: 0.6895\n",
      "RMSE: 6.56\n",
      "MAE: 4.25\n",
      "MAPE: 7.06%\n"
     ]
    }
   ],
   "source": [
    "\"\"\"\n",
    "Create a Random Forest Regressor model.\n",
    "\n",
    "- random_state: ensures reproducibility of results\n",
    "\"\"\"\n",
    "rf_model1 = RandomForestRegressor(random_state=42)\n",
    "\n",
    "\"\"\"\n",
    "Train the Random Forest model on the training data.\n",
    "\n",
    "- X_train: feature matrix for training\n",
    "- y_train: target values for training\n",
    "\"\"\"\n",
    "rf_model1.fit(X_train, y_train)\n",
    "\n",
    "\"\"\"\n",
    "Make predictions on the test set using the trained model.\n",
    "\"\"\"\n",
    "y_pred = rf_model1.predict(X_test)\n",
    "\n",
    "\"\"\"\n",
    "Evaluate the performance of the model using common regression metrics:\n",
    "\n",
    "\"\"\"\n",
    "mse = mean_squared_error(y_test, y_pred)\n",
    "rmse = mse ** 0.5 \n",
    "r2 = r2_score(y_test, y_pred)\n",
    "mae = mean_absolute_error(y_test, y_pred)\n",
    "mape = np.mean(np.abs((y_test - y_pred) / y_test.replace(0, 1e-10))) * 100  # safe division\n",
    "\n",
    "\"\"\"\n",
    "Print the evaluation results of the Random Forest model.\n",
    "\"\"\"\n",
    "print(\"\\n🌲 Random Forest Results:\")\n",
    "print(f\"R² Score: {r2:.4f}\")\n",
    "print(f\"RMSE: {rmse:.2f}\")\n",
    "print(f\"MAE: {mae:.2f}\")\n",
    "print(f\"MAPE: {mape:.2f}%\")\n"
   ]
  }
 ],
 "metadata": {
  "kernelspec": {
   "display_name": "venv",
   "language": "python",
   "name": "python3"
  },
  "language_info": {
   "codemirror_mode": {
    "name": "ipython",
    "version": 3
   },
   "file_extension": ".py",
   "mimetype": "text/x-python",
   "name": "python",
   "nbconvert_exporter": "python",
   "pygments_lexer": "ipython3",
   "version": "3.13.0"
  }
 },
 "nbformat": 4,
 "nbformat_minor": 5
}
