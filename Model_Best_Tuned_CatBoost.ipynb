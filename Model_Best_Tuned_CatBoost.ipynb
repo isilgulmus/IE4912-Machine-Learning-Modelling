{
 "cells": [
  {
   "cell_type": "code",
   "execution_count": 1,
   "id": "4a5ad41f",
   "metadata": {},
   "outputs": [],
   "source": [
    "import warnings\n",
    "warnings.simplefilter(action='ignore', category=FutureWarning)\n",
    "\n",
    "import pandas as pd\n",
    "import matplotlib.pyplot as plt\n",
    "import numpy as np\n",
    "from sklearn.model_selection import train_test_split\n",
    "from sklearn.preprocessing import StandardScaler\n",
    "from catboost import CatBoostRegressor\n",
    "from sklearn.model_selection import cross_val_score, KFold\n",
    "from sklearn.metrics import r2_score, mean_squared_error, mean_absolute_error\n",
    "from dotenv import load_dotenv\n",
    "import os\n",
    "\n",
    "\n",
    "pd.set_option('display.width', 1000)\n",
    "pd.set_option('display.max_rows', 500)\n",
    "pd.set_option('display.max_columns', 500)"
   ]
  },
  {
   "cell_type": "code",
   "execution_count": 2,
   "id": "7211995a",
   "metadata": {},
   "outputs": [],
   "source": [
    "def read_data(path):\n",
    "    return pd.read_csv(path)\n",
    "load_dotenv() \n",
    "data_path = os.getenv(\"TRAINING_DATA\")\n",
    "df = read_data(data_path)"
   ]
  },
  {
   "cell_type": "code",
   "execution_count": null,
   "id": "0ea8ca8a",
   "metadata": {},
   "outputs": [],
   "source": [
    "\"\"\"\n",
    "Split the dataset into features and target, then divide it into training and testing sets.\n",
    "\n",
    "- X: feature matrix (all columns except the target)\n",
    "- y: target variable ('HATSURESI')\n",
    "- 90% of the data is used for training, 10% for testing\n",
    "- The random_state ensures reproducible results\n",
    "\"\"\"\n",
    "\n",
    "# Separate features (X) and target variable (y)\n",
    "X = df.drop([\"HATSURESI\",\"Unnamed: 0\", \"Unnamed: 0.1\"], axis=1)  \n",
    "y = df[\"HATSURESI\"]                 # Target variable to predict\n",
    "\n",
    "# Split the data into training and testing sets\n",
    "X_train, X_test, y_train, y_test = train_test_split(X, y, test_size=0.2, random_state=42)\n",
    "\n",
    "# Display the shape of the resulting splits\n",
    "X_train.shape, X_test.shape, y_train.shape, y_test.shape"
   ]
  },
  {
   "cell_type": "code",
   "execution_count": null,
   "id": "8eab1d9d",
   "metadata": {},
   "outputs": [],
   "source": [
    "scaler = StandardScaler()\n",
    "X_train_scaled = scaler.fit_transform(X_train)  \n",
    "X_test_scaled = scaler.transform(X_test)  "
   ]
  },
  {
   "cell_type": "code",
   "execution_count": null,
   "id": "c9a3ba4a",
   "metadata": {},
   "outputs": [],
   "source": [
    "\"\"\"\n",
    "Define the CatBoost model using optimized hyperparameters:\n",
    "\n",
    "learning_rate: step size for updates\n",
    "\n",
    "l2_leaf_reg: L2 regularization on leaf values\n",
    "\n",
    "iterations: total number of boosting rounds\n",
    "\n",
    "depth: depth of each tree\n",
    "\n",
    "border_count: number of splits for numerical features\n",
    "\n",
    "verbose=0: suppress training output\n",
    "\n",
    "random_state: ensures reproducibility\n",
    "\"\"\"\n",
    "\n",
    "cat_model = CatBoostRegressor(\n",
    "    learning_rate=0.1,\n",
    "    l2_leaf_reg=9,\n",
    "    iterations=500,\n",
    "    depth=10,\n",
    "    border_count=64,\n",
    "    verbose=0,\n",
    "    random_state=42\n",
    ")\n"
   ]
  },
  {
   "cell_type": "code",
   "execution_count": null,
   "id": "33ea6376",
   "metadata": {},
   "outputs": [],
   "source": [
    "\"\"\"\n",
    "Evaluate model performance using 5-fold cross-validation:\n",
    "\n",
    "KFold: splits data into 5 folds with shuffling\n",
    "\n",
    "cross_val_score: evaluates R² score across folds\n",
    "\n",
    "Mean R² score gives a robust estimate of model generalization\n",
    "\"\"\"\n",
    "cv = KFold(n_splits=5, shuffle=True, random_state=42)\n",
    "cv_scores = cross_val_score(cat_model, X_train, y_train, cv=cv, scoring='r2', n_jobs=-1)\n",
    "\n",
    "print(\"📊 5-Fold Cross-Validation R² Scores:\", np.round(cv_scores, 4))\n",
    "print(\"📈 Mean CV R² Score:\", np.round(np.mean(cv_scores), 4))"
   ]
  },
  {
   "cell_type": "code",
   "execution_count": null,
   "id": "586fbdb6",
   "metadata": {},
   "outputs": [],
   "source": [
    "cat_model.fit(X_train, y_train)\n",
    "y_pred_cat = cat_model.predict(X_test)\n",
    "\n",
    "r2_cat = r2_score(y_test, y_pred_cat)\n",
    "rmse_cat = mean_squared_error(y_test, y_pred_cat) ** 0.5 \n",
    "mae_cat = mean_absolute_error(y_test, y_pred_cat)\n",
    "mape_cat = np.mean(np.abs((y_test - y_pred_cat) / y_test.replace(0, 1e-10))) * 100\n",
    "\n",
    "print(\"\\n🐱 Final CatBoost Test Set Results:\")\n",
    "print(f\"R² Score: {r2_cat:.4f}\")\n",
    "print(f\"RMSE: {rmse_cat:.2f}\")\n",
    "print(f\"MAE: {mae_cat:.2f}\")\n",
    "print(f\"MAPE: {mape_cat:.2f}%\")\n"
   ]
  },
  {
   "cell_type": "code",
   "execution_count": null,
   "id": "1bbcb782",
   "metadata": {},
   "outputs": [],
   "source": [
    "\"\"\"\n",
    "Extract and display feature importances:\n",
    "\n",
    "Shows how much each feature contributed to the model's predictions\n",
    "\n",
    "Sorted from most to least important\n",
    "\"\"\"\n",
    "\n",
    "importances = cat_model.get_feature_importance()\n",
    "feature_names = X_train.columns\n",
    "\n",
    "importance_df = pd.DataFrame({\n",
    "    'Feature': feature_names,\n",
    "    'Importance': importances\n",
    "}).sort_values(by='Importance', ascending=False)\n",
    "\n",
    "print(\"\\n📌 Feature Importances (sorted):\")\n",
    "print(importance_df)"
   ]
  },
  {
   "cell_type": "code",
   "execution_count": null,
   "id": "73d8b31f",
   "metadata": {},
   "outputs": [],
   "source": [
    "\"\"\"\n",
    "Visualize the feature importance rankings:\n",
    "\n",
    "Horizontal bar plot showing top features\n",
    "\n",
    "Helps identify which features have the greatest predictive power\n",
    "\"\"\"\n",
    "sorted_idx = np.argsort(importances)[::-1]\n",
    "\n",
    "plt.figure(figsize=(10, 6))\n",
    "plt.title(\"🎯 CatBoost Feature Importance\")\n",
    "plt.barh(range(len(importances)), importances[sorted_idx])\n",
    "plt.yticks(range(len(importances)), feature_names[sorted_idx])\n",
    "plt.gca().invert_yaxis()\n",
    "plt.tight_layout()\n",
    "plt.show()"
   ]
  }
 ],
 "metadata": {
  "kernelspec": {
   "display_name": "venv",
   "language": "python",
   "name": "python3"
  },
  "language_info": {
   "codemirror_mode": {
    "name": "ipython",
    "version": 3
   },
   "file_extension": ".py",
   "mimetype": "text/x-python",
   "name": "python",
   "nbconvert_exporter": "python",
   "pygments_lexer": "ipython3",
   "version": "3.13.0"
  }
 },
 "nbformat": 4,
 "nbformat_minor": 5
}
