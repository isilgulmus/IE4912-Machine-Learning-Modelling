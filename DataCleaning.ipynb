{
 "cells": [
  {
   "cell_type": "markdown",
   "id": "a1cc3e8c",
   "metadata": {},
   "source": [
    "## Data Cleaning"
   ]
  },
  {
   "cell_type": "code",
   "execution_count": null,
   "id": "b5c50c81",
   "metadata": {},
   "outputs": [],
   "source": [
    "import warnings\n",
    "warnings.simplefilter(action='ignore', category=FutureWarning)\n",
    "\n",
    "import pandas as pd\n",
    "from sklearn.neighbors import LocalOutlierFactor\n",
    "from dotenv import load_dotenv\n",
    "import os\n",
    "\n",
    "load_dotenv()\n",
    "\n",
    "pd.set_option('display.width', 1000)\n",
    "pd.set_option('display.max_rows', 500)\n",
    "pd.set_option('display.max_columns', 500)"
   ]
  },
  {
   "cell_type": "code",
   "execution_count": null,
   "id": "e0c270a2",
   "metadata": {},
   "outputs": [],
   "source": [
    "def read_data(path):\n",
    "    return pd.read_csv(path)\n",
    "\n",
    "data_path = os.getenv(\"RAW_DATA\")\n",
    "df = read_data(data_path)"
   ]
  },
  {
   "cell_type": "code",
   "execution_count": 3,
   "id": "932c01a7",
   "metadata": {},
   "outputs": [
    {
     "name": "stdout",
     "output_type": "stream",
     "text": [
      "######### Head #########\n",
      "    PLAKA  HATNO  HATKODU  DURAKSIRANO  DURAKID         DURAKGIRISTARIHI         DURAKCIKISTARIHI       HATBASLANGICTARIHI           HATBITISTARIHI               INSERTDATE\n",
      "0  DB4218    800    28000           43    20060  2020-01-01 07:11:47.000  2020-01-01 07:12:17.000  2020-01-01 06:36:48.000  2020-01-01 07:23:24.000  2020-01-01 07:12:04.230\n",
      "1  DB3476    800    28000           43    20060  2020-01-01 06:35:18.000  2020-01-01 06:35:44.000  2020-01-01 06:01:38.000  2020-01-01 06:45:11.000  2020-01-01 06:35:40.543\n",
      "2  DB6224    800    28000           43    20060  2020-01-01 08:13:06.000  2020-01-01 08:13:38.000  2020-01-01 07:36:20.000  2020-01-01 08:23:16.000  2020-01-01 08:13:31.269\n",
      "3  DB3476    800    28000           43    20060  2020-01-01 09:09:26.000  2020-01-01 09:09:54.000  2020-01-01 08:36:32.000  2020-01-01 09:18:52.000  2020-01-01 09:10:03.013\n",
      "4  DB5969    800    28000           43    20060  2020-01-01 08:44:41.000  2020-01-01 08:44:53.000  2020-01-01 08:05:57.000  2020-01-01 09:19:11.000  2020-01-01 08:44:56.622\n",
      "######### Tail #########\n",
      "             PLAKA  HATNO  HATKODU  DURAKSIRANO  DURAKID         DURAKGIRISTARIHI         DURAKCIKISTARIHI       HATBASLANGICTARIHI           HATBITISTARIHI               INSERTDATE\n",
      "561864  CO2 BIA388    800    28000           45    20134  2024-07-31 00:34:53.000  2024-07-31 00:38:44.000  2024-07-31 00:02:04.000                      NaN  2024-07-31 00:35:25.915\n",
      "561865  CO1 BIP978    800    28000           45    20134  2024-07-30 23:59:42.000  2024-07-31 00:03:02.000  2024-07-30 23:09:30.000                      NaN  2024-07-31 00:00:01.954\n",
      "561866   CI BIA643    800    28000           45    20134  2024-07-31 00:34:34.000  2024-07-31 00:34:46.000  2024-07-30 23:47:40.000  2024-07-31 00:44:08.000  2024-07-31 00:34:55.430\n",
      "561867  CO1 BIA643    800    28000           45    20134  2024-07-31 00:34:35.000  2024-07-31 00:38:17.000  2024-07-30 23:49:13.000                      NaN  2024-07-31 00:34:47.045\n",
      "561868   CI BIA388    800    28000           45    20134  2024-07-31 00:34:53.000  2024-07-31 00:35:33.000  2024-07-31 00:00:59.000  2024-07-31 00:43:17.000  2024-07-31 00:34:53.691\n",
      "######### Info #########\n",
      "<class 'pandas.core.frame.DataFrame'>\n",
      "RangeIndex: 561869 entries, 0 to 561868\n",
      "Data columns (total 10 columns):\n",
      " #   Column              Non-Null Count   Dtype \n",
      "---  ------              --------------   ----- \n",
      " 0   PLAKA               561869 non-null  object\n",
      " 1   HATNO               561869 non-null  int64 \n",
      " 2   HATKODU             561869 non-null  int64 \n",
      " 3   DURAKSIRANO         561869 non-null  int64 \n",
      " 4   DURAKID             561869 non-null  int64 \n",
      " 5   DURAKGIRISTARIHI    561844 non-null  object\n",
      " 6   DURAKCIKISTARIHI    561373 non-null  object\n",
      " 7   HATBASLANGICTARIHI  561869 non-null  object\n",
      " 8   HATBITISTARIHI      441307 non-null  object\n",
      " 9   INSERTDATE          561869 non-null  object\n",
      "dtypes: int64(4), object(6)\n",
      "memory usage: 42.9+ MB\n",
      "None\n",
      "######### Shape #########\n",
      "(561869, 10)\n",
      "######### Null Values #########\n",
      "PLAKA                      0\n",
      "HATNO                      0\n",
      "HATKODU                    0\n",
      "DURAKSIRANO                0\n",
      "DURAKID                    0\n",
      "DURAKGIRISTARIHI          25\n",
      "DURAKCIKISTARIHI         496\n",
      "HATBASLANGICTARIHI         0\n",
      "HATBITISTARIHI        120562\n",
      "INSERTDATE                 0\n",
      "dtype: int64\n"
     ]
    },
    {
     "data": {
      "text/html": [
       "<div>\n",
       "<style scoped>\n",
       "    .dataframe tbody tr th:only-of-type {\n",
       "        vertical-align: middle;\n",
       "    }\n",
       "\n",
       "    .dataframe tbody tr th {\n",
       "        vertical-align: top;\n",
       "    }\n",
       "\n",
       "    .dataframe thead th {\n",
       "        text-align: right;\n",
       "    }\n",
       "</style>\n",
       "<table border=\"1\" class=\"dataframe\">\n",
       "  <thead>\n",
       "    <tr style=\"text-align: right;\">\n",
       "      <th></th>\n",
       "      <th>HATNO</th>\n",
       "      <th>HATKODU</th>\n",
       "      <th>DURAKSIRANO</th>\n",
       "      <th>DURAKID</th>\n",
       "    </tr>\n",
       "  </thead>\n",
       "  <tbody>\n",
       "    <tr>\n",
       "      <th>count</th>\n",
       "      <td>561869.0</td>\n",
       "      <td>561869.0</td>\n",
       "      <td>561869.000000</td>\n",
       "      <td>561869.000000</td>\n",
       "    </tr>\n",
       "    <tr>\n",
       "      <th>mean</th>\n",
       "      <td>800.0</td>\n",
       "      <td>28000.0</td>\n",
       "      <td>42.906752</td>\n",
       "      <td>20096.983735</td>\n",
       "    </tr>\n",
       "    <tr>\n",
       "      <th>std</th>\n",
       "      <td>0.0</td>\n",
       "      <td>0.0</td>\n",
       "      <td>0.796924</td>\n",
       "      <td>37.000029</td>\n",
       "    </tr>\n",
       "    <tr>\n",
       "      <th>min</th>\n",
       "      <td>800.0</td>\n",
       "      <td>28000.0</td>\n",
       "      <td>42.000000</td>\n",
       "      <td>20060.000000</td>\n",
       "    </tr>\n",
       "    <tr>\n",
       "      <th>25%</th>\n",
       "      <td>800.0</td>\n",
       "      <td>28000.0</td>\n",
       "      <td>42.000000</td>\n",
       "      <td>20060.000000</td>\n",
       "    </tr>\n",
       "    <tr>\n",
       "      <th>50%</th>\n",
       "      <td>800.0</td>\n",
       "      <td>28000.0</td>\n",
       "      <td>43.000000</td>\n",
       "      <td>20060.000000</td>\n",
       "    </tr>\n",
       "    <tr>\n",
       "      <th>75%</th>\n",
       "      <td>800.0</td>\n",
       "      <td>28000.0</td>\n",
       "      <td>43.000000</td>\n",
       "      <td>20134.000000</td>\n",
       "    </tr>\n",
       "    <tr>\n",
       "      <th>max</th>\n",
       "      <td>800.0</td>\n",
       "      <td>28000.0</td>\n",
       "      <td>45.000000</td>\n",
       "      <td>20134.000000</td>\n",
       "    </tr>\n",
       "  </tbody>\n",
       "</table>\n",
       "</div>"
      ],
      "text/plain": [
       "          HATNO   HATKODU    DURAKSIRANO        DURAKID\n",
       "count  561869.0  561869.0  561869.000000  561869.000000\n",
       "mean      800.0   28000.0      42.906752   20096.983735\n",
       "std         0.0       0.0       0.796924      37.000029\n",
       "min       800.0   28000.0      42.000000   20060.000000\n",
       "25%       800.0   28000.0      42.000000   20060.000000\n",
       "50%       800.0   28000.0      43.000000   20060.000000\n",
       "75%       800.0   28000.0      43.000000   20134.000000\n",
       "max       800.0   28000.0      45.000000   20134.000000"
      ]
     },
     "execution_count": 3,
     "metadata": {},
     "output_type": "execute_result"
    }
   ],
   "source": [
    "def check_df(dataframe):\n",
    "    print(\"######### Head #########\")\n",
    "    print(df.head())\n",
    "    print(\"######### Tail #########\")\n",
    "    print(df.tail())\n",
    "    print(\"######### Info #########\")\n",
    "    print(df.info())\n",
    "    print(\"######### Shape #########\")\n",
    "    print(df.shape)\n",
    "    print(\"######### Null Values #########\")\n",
    "    print(df.isnull().sum())\n",
    "\n",
    "check_df(df)\n",
    "\n",
    "df.describe()"
   ]
  },
  {
   "cell_type": "code",
   "execution_count": 4,
   "id": "1dbe3a40",
   "metadata": {},
   "outputs": [],
   "source": [
    "# Drop rows with any missing values (e.g., from failed datetime parsing or duration calculation)\n",
    "df = df.dropna()"
   ]
  },
  {
   "cell_type": "code",
   "execution_count": 5,
   "id": "dc587588",
   "metadata": {},
   "outputs": [
    {
     "name": "stdout",
     "output_type": "stream",
     "text": [
      "Number of non-positive durations: 7\n",
      "             PLAKA  HATNO  HATKODU  DURAKSIRANO  DURAKID    DURAKGIRISTARIHI    DURAKCIKISTARIHI  HATBASLANGICTARIHI      HATBITISTARIHI              INSERTDATE     HATSURESI\n",
      "38150    CI DB5385    800    28000           42    20060 2022-04-15 19:12:31 2022-04-15 19:14:39 2022-04-15 18:20:28 2022-04-15 17:22:11 2022-04-15 19:12:46.243    -58.283333\n",
      "57601   CO1 BIA388    800    28000           42    20060 2022-12-07 09:41:42 2022-12-07 09:43:30 2022-12-07 08:45:48 2022-11-23 16:03:22 2022-12-07 09:42:11.303 -19722.433333\n",
      "108711  CO2 BIA384    800    28000           42    20060 2023-04-22 09:20:47 2023-04-22 09:22:15 2023-04-22 09:31:21 2023-04-22 09:31:09 2023-04-22 09:20:58.646     -0.200000\n",
      "272991   CI BIA622    800    28000           44    20060 2024-07-09 08:45:03 2024-07-09 08:45:45 2024-07-10 13:46:45 2024-07-09 09:03:09 2024-07-09 08:45:31.527  -1723.600000\n",
      "319154   CI DB5385    800    28000           43    20134 2022-04-15 19:14:39 2022-04-15 19:16:35 2022-04-15 18:20:28 2022-04-15 17:22:11 2022-04-15 19:14:50.794    -58.283333\n",
      "389632  CO2 BIA384    800    28000           43    20134 2023-04-22 09:22:15 2023-04-22 09:25:45 2023-04-22 09:31:21 2023-04-22 09:31:09 2023-04-22 09:22:19.402     -0.200000\n",
      "553801   CI BIA622    800    28000           45    20134 2024-07-09 08:47:27 2024-07-09 08:47:55 2024-07-10 13:46:45 2024-07-09 09:03:09 2024-07-09 08:47:33.237  -1723.600000\n"
     ]
    }
   ],
   "source": [
    "def convert_to_datetime(dataframe, datetime_columns):\n",
    "    \"\"\"\n",
    "    Converts specified columns in a DataFrame to datetime format.\n",
    "\n",
    "    Parameters:\n",
    "    ----------\n",
    "    dataframe : pandas.DataFrame\n",
    "        The DataFrame containing the columns to be converted.\n",
    "    datetime_columns : list of str\n",
    "        A list of column names in the DataFrame to convert to datetime format.\n",
    "\n",
    "    Returns:\n",
    "    -------\n",
    "    pandas.DataFrame\n",
    "        The original DataFrame with specified columns converted to datetime.\n",
    "    \"\"\"\n",
    "    for col in datetime_columns:\n",
    "        # Use 'coerce' to handle invalid parsing by setting them as NaT\n",
    "        dataframe[col] = pd.to_datetime(dataframe[col], errors=\"coerce\")\n",
    "    return dataframe\n",
    "\n",
    "# List of columns in `df` that are expected to contain datetime information\n",
    "datetime_columns = [\n",
    "    \"DURAKGIRISTARIHI\",\n",
    "    \"DURAKCIKISTARIHI\",\n",
    "    \"HATBASLANGICTARIHI\",\n",
    "    \"HATBITISTARIHI\",\n",
    "    \"INSERTDATE\",\n",
    "]\n",
    "\n",
    "# Apply the datetime conversion\n",
    "df = convert_to_datetime(df, datetime_columns)\n",
    "\n",
    "# Calculate route duration in minutes and store it in a new column\n",
    "df[\"HATSURESI\"] = (df[\"HATBITISTARIHI\"] - df[\"HATBASLANGICTARIHI\"]).dt.total_seconds() / 60\n",
    "\n",
    "\n",
    "# Identify rows with non-positive durations\n",
    "negative_duration = df[df[\"HATSURESI\"] <= 0]\n",
    "\n",
    "# Print the number of invalid duration rows\n",
    "print(f\"Number of non-positive durations: {negative_duration.shape[0]}\")\n",
    "\n",
    "# Optionally display those rows if any exist\n",
    "if not negative_duration.empty:\n",
    "    print(negative_duration)\n",
    "\n",
    "# Remove rows with non-positive durations from the main DataFrame\n",
    "df = df[df[\"HATSURESI\"] > 0]\n"
   ]
  },
  {
   "cell_type": "markdown",
   "id": "e07af6cd",
   "metadata": {},
   "source": [
    "#### Logical Outlier Setting"
   ]
  },
  {
   "cell_type": "code",
   "execution_count": 6,
   "id": "1e726c91",
   "metadata": {},
   "outputs": [
    {
     "name": "stdout",
     "output_type": "stream",
     "text": [
      "Number of logical outliers: 16425\n"
     ]
    }
   ],
   "source": [
    "# Define logical lower and upper bounds for route duration (in minutes)\n",
    "lower_bound = 35   #  routes shorter than 35 minutes are considered too short\n",
    "upper_bound = 97   #  routes longer than 97 minutes are considered too long\n",
    "\n",
    "# Identify rows with duration outside the logical bounds\n",
    "logical_outliers = df[(df[\"HATSURESI\"] < lower_bound) | (df[\"HATSURESI\"] > upper_bound)]\n",
    "print(f\"Number of logical outliers: {logical_outliers.shape[0]}\")\n",
    "\n",
    "# Filter the DataFrame to keep only logically valid durations\n",
    "df_cleaned = df[(df[\"HATSURESI\"] >= lower_bound) & (df[\"HATSURESI\"] <= upper_bound)]\n",
    "\n",
    "# Remove rows where route start year is 2019\n",
    "df_cleaned = df_cleaned[df_cleaned['HATBASLANGICTARIHI'].dt.year != 2019].reset_index(drop=True)\n",
    "\n",
    "# Further filter: keep only rows where DURAKSIRANO is 43\n",
    "df_cleaned = df_cleaned[df_cleaned[\"DURAKSIRANO\"] == 43]\n"
   ]
  },
  {
   "cell_type": "code",
   "execution_count": 7,
   "id": "42ef73be",
   "metadata": {},
   "outputs": [
    {
     "name": "stdout",
     "output_type": "stream",
     "text": [
      "LOF Cleaned Dataset: 193564\n"
     ]
    },
    {
     "name": "stderr",
     "output_type": "stream",
     "text": [
      "c:\\Users\\Excalibur\\Desktop\\Bitirme Projesi\\Datas\\800-last\\IE-4912\\venv\\Lib\\site-packages\\sklearn\\neighbors\\_lof.py:322: UserWarning: Duplicate values are leading to incorrect results. Increase the number of neighbors for more accurate results.\n",
      "  warnings.warn(\n"
     ]
    }
   ],
   "source": [
    "# Apply Local Outlier Factor (LOF) to detect outliers based on 'HATSURESI'\n",
    "lof = LocalOutlierFactor(n_neighbors=20)\n",
    "\n",
    "# Fit the model and predict: -1 indicates outliers, 1 indicates inliers\n",
    "y_pred = lof.fit_predict(df_cleaned[['HATSURESI']])\n",
    "\n",
    "# Extract the rows identified as outliers\n",
    "outliers_lof = df_cleaned[y_pred == -1]\n",
    "\n",
    "# Keep only the rows identified as inliers (non-outliers)\n",
    "df_cleaned= df_cleaned[y_pred != -1]\n",
    "\n",
    "# Print the number of rows remaining after LOF cleaning\n",
    "print(f\"LOF Cleaned Dataset: {df_cleaned.shape[0]}\")\n"
   ]
  },
  {
   "cell_type": "code",
   "execution_count": 8,
   "id": "4d23c494",
   "metadata": {},
   "outputs": [],
   "source": [
    "# Sort by route start time and reset index\n",
    "df_cleaned = df_cleaned.sort_values(by='HATBASLANGICTARIHI').reset_index(drop=True)"
   ]
  }
 ],
 "metadata": {
  "kernelspec": {
   "display_name": "venv",
   "language": "python",
   "name": "python3"
  },
  "language_info": {
   "codemirror_mode": {
    "name": "ipython",
    "version": 3
   },
   "file_extension": ".py",
   "mimetype": "text/x-python",
   "name": "python",
   "nbconvert_exporter": "python",
   "pygments_lexer": "ipython3",
   "version": "3.13.0"
  }
 },
 "nbformat": 4,
 "nbformat_minor": 5
}
