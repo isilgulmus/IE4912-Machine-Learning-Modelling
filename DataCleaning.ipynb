{
 "cells": [
  {
   "cell_type": "markdown",
   "id": "a1cc3e8c",
   "metadata": {},
   "source": [
    "## Data Cleaning"
   ]
  },
  {
   "cell_type": "code",
   "execution_count": null,
   "id": "b5c50c81",
   "metadata": {},
   "outputs": [],
   "source": [
    "import warnings\n",
    "warnings.simplefilter(action='ignore', category=FutureWarning)\n",
    "\n",
    "import pandas as pd\n",
    "from sklearn.neighbors import LocalOutlierFactor\n",
    "from dotenv import load_dotenv\n",
    "import os\n",
    "\n",
    "load_dotenv()\n",
    "\n",
    "pd.set_option('display.width', 1000)\n",
    "pd.set_option('display.max_rows', 500)\n",
    "pd.set_option('display.max_columns', 500)"
   ]
  },
  {
   "cell_type": "code",
   "execution_count": null,
   "id": "e0c270a2",
   "metadata": {},
   "outputs": [],
   "source": [
    "def read_data(path):\n",
    "    return pd.read_csv(path)\n",
    "\n",
    "data_path = os.getenv(\"RAW_DATA\")\n",
    "df = read_data(data_path)"
   ]
  },
  {
   "cell_type": "code",
   "execution_count": null,
   "id": "932c01a7",
   "metadata": {},
   "outputs": [],
   "source": [
    "def check_df(dataframe):\n",
    "    print(\"######### Head #########\")\n",
    "    print(df.head())\n",
    "    print(\"######### Tail #########\")\n",
    "    print(df.tail())\n",
    "    print(\"######### Info #########\")\n",
    "    print(df.info())\n",
    "    print(\"######### Shape #########\")\n",
    "    print(df.shape)\n",
    "    print(\"######### Null Values #########\")\n",
    "    print(df.isnull().sum())\n",
    "\n",
    "check_df(df)\n",
    "\n",
    "df.describe()"
   ]
  },
  {
   "cell_type": "code",
   "execution_count": null,
   "id": "1dbe3a40",
   "metadata": {},
   "outputs": [],
   "source": [
    "# Drop rows with any missing values (e.g., from failed datetime parsing or duration calculation)\n",
    "df = df.dropna()"
   ]
  },
  {
   "cell_type": "code",
   "execution_count": null,
   "id": "dc587588",
   "metadata": {},
   "outputs": [],
   "source": [
    "def convert_to_datetime(dataframe, datetime_columns):\n",
    "    \"\"\"\n",
    "    Converts specified columns in a DataFrame to datetime format.\n",
    "\n",
    "    Parameters:\n",
    "    ----------\n",
    "    dataframe : pandas.DataFrame\n",
    "        The DataFrame containing the columns to be converted.\n",
    "    datetime_columns : list of str\n",
    "        A list of column names in the DataFrame to convert to datetime format.\n",
    "\n",
    "    Returns:\n",
    "    -------\n",
    "    pandas.DataFrame\n",
    "        The original DataFrame with specified columns converted to datetime.\n",
    "    \"\"\"\n",
    "    for col in datetime_columns:\n",
    "        # Use 'coerce' to handle invalid parsing by setting them as NaT\n",
    "        dataframe[col] = pd.to_datetime(dataframe[col], errors=\"coerce\")\n",
    "    return dataframe\n",
    "\n",
    "# List of columns in `df` that are expected to contain datetime information\n",
    "datetime_columns = [\n",
    "    \"DURAKGIRISTARIHI\",\n",
    "    \"DURAKCIKISTARIHI\",\n",
    "    \"HATBASLANGICTARIHI\",\n",
    "    \"HATBITISTARIHI\",\n",
    "    \"INSERTDATE\",\n",
    "]\n",
    "\n",
    "# Apply the datetime conversion\n",
    "df = convert_to_datetime(df, datetime_columns)\n",
    "\n",
    "# Calculate route duration in minutes and store it in a new column\n",
    "df[\"HATSURESI\"] = (df[\"HATBITISTARIHI\"] - df[\"HATBASLANGICTARIHI\"]).dt.total_seconds() / 60\n",
    "\n",
    "\n",
    "# Identify rows with non-positive durations\n",
    "negative_duration = df[df[\"HATSURESI\"] <= 0]\n",
    "\n",
    "# Print the number of invalid duration rows\n",
    "print(f\"Number of non-positive durations: {negative_duration.shape[0]}\")\n",
    "\n",
    "# Optionally display those rows if any exist\n",
    "if not negative_duration.empty:\n",
    "    print(negative_duration)\n",
    "\n",
    "# Remove rows with non-positive durations from the main DataFrame\n",
    "df = df[df[\"HATSURESI\"] > 0]\n"
   ]
  },
  {
   "cell_type": "markdown",
   "id": "e07af6cd",
   "metadata": {},
   "source": [
    "#### Logical Outlier Setting"
   ]
  },
  {
   "cell_type": "code",
   "execution_count": null,
   "id": "1e726c91",
   "metadata": {},
   "outputs": [],
   "source": [
    "# Define logical lower and upper bounds for route duration (in minutes)\n",
    "lower_bound = 35   #  routes shorter than 35 minutes are considered too short\n",
    "upper_bound = 97   #  routes longer than 97 minutes are considered too long\n",
    "\n",
    "# Identify rows with duration outside the logical bounds\n",
    "logical_outliers = df[(df[\"HATSURESI\"] < lower_bound) | (df[\"HATSURESI\"] > upper_bound)]\n",
    "print(f\"Number of logical outliers: {logical_outliers.shape[0]}\")\n",
    "\n",
    "# Filter the DataFrame to keep only logically valid durations\n",
    "df_cleaned = df[(df[\"HATSURESI\"] >= lower_bound) & (df[\"HATSURESI\"] <= upper_bound)]\n",
    "\n",
    "# Remove rows where route start year is 2019\n",
    "df_cleaned = df_cleaned[df_cleaned['HATBASLANGICTARIHI'].dt.year != 2019].reset_index(drop=True)\n",
    "\n",
    "# Further filter: keep only rows where DURAKSIRANO is 43\n",
    "df_cleaned = df_cleaned[df_cleaned[\"DURAKSIRANO\"] == 43]\n"
   ]
  },
  {
   "cell_type": "code",
   "execution_count": null,
   "id": "42ef73be",
   "metadata": {},
   "outputs": [],
   "source": [
    "# Apply Local Outlier Factor (LOF) to detect outliers based on 'HATSURESI'\n",
    "lof = LocalOutlierFactor(n_neighbors=20)\n",
    "\n",
    "# Fit the model and predict: -1 indicates outliers, 1 indicates inliers\n",
    "y_pred = lof.fit_predict(df_cleaned[['HATSURESI']])\n",
    "\n",
    "# Extract the rows identified as outliers\n",
    "outliers_lof = df_cleaned[y_pred == -1]\n",
    "\n",
    "# Keep only the rows identified as inliers (non-outliers)\n",
    "df_cleaned= df_cleaned[y_pred != -1]\n",
    "\n",
    "# Print the number of rows remaining after LOF cleaning\n",
    "print(f\"LOF Cleaned Dataset: {df_cleaned.shape[0]}\")\n"
   ]
  },
  {
   "cell_type": "code",
   "execution_count": null,
   "id": "4d23c494",
   "metadata": {},
   "outputs": [],
   "source": [
    "# Sort by route start time and reset index\n",
    "df_cleaned = df_cleaned.sort_values(by='HATBASLANGICTARIHI').reset_index(drop=True)"
   ]
  }
 ],
 "metadata": {
  "kernelspec": {
   "display_name": "venv",
   "language": "python",
   "name": "python3"
  },
  "language_info": {
   "codemirror_mode": {
    "name": "ipython",
    "version": 3
   },
   "file_extension": ".py",
   "mimetype": "text/x-python",
   "name": "python",
   "nbconvert_exporter": "python",
   "pygments_lexer": "ipython3",
   "version": "3.13.0"
  }
 },
 "nbformat": 4,
 "nbformat_minor": 5
}
