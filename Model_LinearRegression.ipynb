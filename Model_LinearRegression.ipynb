{
 "cells": [
  {
   "cell_type": "markdown",
   "id": "5db9b5da",
   "metadata": {},
   "source": [
    "## Linear Regression"
   ]
  },
  {
   "cell_type": "code",
   "execution_count": null,
   "id": "6a2f9daa",
   "metadata": {},
   "outputs": [],
   "source": [
    "import warnings\n",
    "warnings.simplefilter(action='ignore', category=FutureWarning)\n",
    "\n",
    "import pandas as pd\n",
    "from sklearn.model_selection import train_test_split\n",
    "from sklearn.linear_model import LinearRegression\n",
    "from sklearn.metrics import mean_absolute_error, r2_score, mean_squared_error\n",
    "from sklearn.preprocessing import StandardScaler\n",
    "from statsmodels.stats.outliers_influence import variance_inflation_factor\n",
    "from dotenv import load_dotenv\n",
    "import os\n",
    "\n",
    "\n",
    "pd.set_option('display.width', 1000)\n",
    "pd.set_option('display.max_rows', 500)\n",
    "pd.set_option('display.max_columns', 500)"
   ]
  },
  {
   "cell_type": "code",
   "execution_count": null,
   "id": "01b21537",
   "metadata": {},
   "outputs": [],
   "source": [
    "def read_data(path):\n",
    "    return pd.read_csv(path)\n",
    "load_dotenv() \n",
    "data_path = os.getenv(\"TRAINING_DATA\")\n",
    "df = read_data(data_path)"
   ]
  },
  {
   "cell_type": "code",
   "execution_count": null,
   "id": "34a58020",
   "metadata": {},
   "outputs": [],
   "source": [
    "\"\"\"\n",
    "Split the dataset into features and target, then divide it into training and testing sets.\n",
    "\n",
    "- X: feature matrix (all columns except the target)\n",
    "- y: target variable ('HATSURESI')\n",
    "- 90% of the data is used for training, 10% for testing\n",
    "- The random_state ensures reproducible results\n",
    "\"\"\"\n",
    "\n",
    "# Separate features (X) and target variable (y)\n",
    "X = df.drop([\"HATSURESI\",\"Unnamed: 0\", \"Unnamed: 0.1\"], axis=1)  # Drop target column to create feature set\n",
    "y = df[\"HATSURESI\"]                 # Target variable to predict\n",
    "\n",
    "# Split the data into training and testing sets\n",
    "X_train, X_test, y_train, y_test = train_test_split(X, y, test_size=0.1, random_state=42)\n",
    "\n",
    "# Display the shape of the resulting splits\n",
    "X_train.shape, X_test.shape, y_train.shape, y_test.shape"
   ]
  },
  {
   "cell_type": "code",
   "execution_count": null,
   "id": "464172b9",
   "metadata": {},
   "outputs": [],
   "source": [
    "scaler = StandardScaler()\n",
    "X_train_scaled = scaler.fit_transform(X_train)  \n",
    "X_test_scaled = scaler.transform(X_test)  "
   ]
  },
  {
   "cell_type": "code",
   "execution_count": null,
   "id": "66435291",
   "metadata": {},
   "outputs": [],
   "source": [
    "lr_model = LinearRegression()\n",
    "lr_model.fit(X_train_scaled, y_train)"
   ]
  },
  {
   "cell_type": "code",
   "execution_count": null,
   "id": "725b7d0c",
   "metadata": {},
   "outputs": [],
   "source": [
    "\"\"\"\n",
    "Evaluate the regression model's performance on the test set using key metrics:\n",
    "- RMSE (Root Mean Squared Error)\n",
    "- MAE (Mean Absolute Error)\n",
    "- R² Score (Coefficient of Determination)\n",
    "- MAPE (Mean Absolute Percentage Error)\n",
    "\"\"\"\n",
    "\n",
    "# Make predictions using the trained model\n",
    "y_pred = lr_model.predict(X_test_scaled)\n",
    "\n",
    "# Calculate evaluation metrics\n",
    "mse = mean_squared_error(y_test, y_pred)\n",
    "rmse = mse ** 0.5  \n",
    "mae = mean_absolute_error(y_test, y_pred)  \n",
    "r2 = r2_score(y_test, y_pred)  \n",
    "mape = (abs((y_test - y_pred) / y_test).mean()) * 100  \n",
    "\n",
    "print(f\"Root Mean Square Error (RMSE): {rmse:.2f}\")\n",
    "print(f\"Mean Absolute Error (MAE): {mae:.2f}\")\n",
    "print(f\"R² Score: {r2:.2f}\")\n",
    "print(f\"Mean Absolute Percentage Error (MAPE): {mape:.2f}%\")\n"
   ]
  },
  {
   "cell_type": "code",
   "execution_count": null,
   "id": "45dc31cb",
   "metadata": {},
   "outputs": [],
   "source": [
    "\"\"\"\n",
    "Retrieve and display the coefficients of a trained linear regression model.\n",
    "\"\"\"\n",
    "\n",
    "coefficients = lr_model.coef_\n",
    "intercept = lr_model.intercept_\n",
    "\n",
    "feature_importance = pd.Series(coefficients, index=X_train.columns)\n",
    "\n",
    "print(\"Intercept (β₀):\", intercept)\n",
    "print(\"Coefficients (β):\")\n",
    "print(feature_importance.sort_values(ascending=False))\n"
   ]
  },
  {
   "cell_type": "markdown",
   "id": "262398e8",
   "metadata": {},
   "source": [
    "#### VIF Analysis"
   ]
  },
  {
   "cell_type": "code",
   "execution_count": null,
   "id": "a88929dd",
   "metadata": {},
   "outputs": [],
   "source": [
    "\"\"\"\n",
    "Calculate Variance Inflation Factor (VIF) for each feature in a given DataFrame.\n",
    "\n",
    "VIF quantifies the severity of multicollinearity in a set of regression variables.\n",
    "A higher VIF indicates a stronger linear relationship between a given feature and the others.\n",
    "\n",
    "Returns a DataFrame showing each feature and its corresponding VIF value,\n",
    "sorted from highest to lowest.\n",
    "\"\"\"\n",
    "\n",
    "def calculate_vif(X):\n",
    "    vif_data = pd.DataFrame()\n",
    "    vif_data['Feature'] = X.columns\n",
    "    vif_data['VIF'] = [variance_inflation_factor(X.values, i) for i in range(X.shape[1])]\n",
    "    return vif_data.sort_values(by='VIF', ascending=False)"
   ]
  },
  {
   "cell_type": "code",
   "execution_count": null,
   "id": "6c2eca84",
   "metadata": {},
   "outputs": [],
   "source": [
    "\"\"\"\n",
    "Standardize the feature set and calculate Variance Inflation Factor (VIF)\n",
    "to assess multicollinearity before performing linear regression.\n",
    "\"\"\"\n",
    "\n",
    "# Scale features using StandardScaler (mean=0, std=1)\n",
    "scaler = StandardScaler()\n",
    "X_scaled = pd.DataFrame(scaler.fit_transform(X), columns=X.columns)\n",
    "\n",
    "# Calculate VIF for the scaled features\n",
    "vif_df = calculate_vif(X_scaled)\n",
    "\n",
    "# Display the VIF values for all features\n",
    "print(vif_df.head(500))\n"
   ]
  }
 ],
 "metadata": {
  "kernelspec": {
   "display_name": "venv",
   "language": "python",
   "name": "python3"
  },
  "language_info": {
   "codemirror_mode": {
    "name": "ipython",
    "version": 3
   },
   "file_extension": ".py",
   "mimetype": "text/x-python",
   "name": "python",
   "nbconvert_exporter": "python",
   "pygments_lexer": "ipython3",
   "version": "3.13.0"
  }
 },
 "nbformat": 4,
 "nbformat_minor": 5
}
