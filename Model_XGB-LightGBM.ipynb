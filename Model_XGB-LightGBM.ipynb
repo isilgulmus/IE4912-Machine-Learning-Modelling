{
 "cells": [
  {
   "cell_type": "code",
   "execution_count": 2,
   "id": "08098755",
   "metadata": {},
   "outputs": [],
   "source": [
    "import warnings\n",
    "warnings.simplefilter(action='ignore', category=FutureWarning)\n",
    "\n",
    "import pandas as pd\n",
    "import numpy as np\n",
    "from sklearn.model_selection import train_test_split\n",
    "import xgboost as xgb\n",
    "from sklearn.metrics import mean_absolute_error, r2_score, mean_squared_error\n",
    "from sklearn.preprocessing import StandardScaler\n",
    "from sklearn.model_selection import RandomizedSearchCV, GridSearchCV\n",
    "from lightgbm import LGBMRegressor\n",
    "from dotenv import load_dotenv\n",
    "import os\n",
    "\n",
    "\n",
    "pd.set_option('display.width', 1000)\n",
    "pd.set_option('display.max_rows', 500)\n",
    "pd.set_option('display.max_columns', 500)"
   ]
  },
  {
   "cell_type": "code",
   "execution_count": 3,
   "id": "0e8aa3f5",
   "metadata": {},
   "outputs": [],
   "source": [
    "def read_data(path):\n",
    "    return pd.read_csv(path)\n",
    "load_dotenv() \n",
    "data_path = os.getenv(\"TRAINING_DATA\")\n",
    "df = read_data(data_path)"
   ]
  },
  {
   "cell_type": "code",
   "execution_count": 5,
   "id": "77e254ac",
   "metadata": {},
   "outputs": [
    {
     "data": {
      "text/plain": [
       "((154851, 31), (38713, 31), (154851,), (38713,))"
      ]
     },
     "execution_count": 5,
     "metadata": {},
     "output_type": "execute_result"
    }
   ],
   "source": [
    "\"\"\"\n",
    "Split the dataset into features and target, then divide it into training and testing sets.\n",
    "\n",
    "- X: feature matrix (all columns except the target)\n",
    "- y: target variable ('HATSURESI')\n",
    "- 90% of the data is used for training, 10% for testing\n",
    "- The random_state ensures reproducible results\n",
    "\"\"\"\n",
    "\n",
    "# Separate features (X) and target variable (y)\n",
    "X = df.drop([\"HATSURESI\",\"Unnamed: 0\", \"Unnamed: 0.1\"], axis=1)  # Drop target column to create feature set\n",
    "y = df[\"HATSURESI\"]                 # Target variable to predict\n",
    "\n",
    "# Split the data into training and testing sets\n",
    "X_train, X_test, y_train, y_test = train_test_split(X, y, test_size=0.2, random_state=42)\n",
    "\n",
    "# Display the shape of the resulting splits\n",
    "X_train.shape, X_test.shape, y_train.shape, y_test.shape"
   ]
  },
  {
   "cell_type": "markdown",
   "id": "c1e963de",
   "metadata": {},
   "source": [
    "## XGB"
   ]
  },
  {
   "cell_type": "code",
   "execution_count": 8,
   "id": "6ee20ab3",
   "metadata": {},
   "outputs": [
    {
     "name": "stdout",
     "output_type": "stream",
     "text": [
      "Root Mean Square Error (RMSE): 6.51\n",
      "Mean Squared Error: 42.4257\n",
      "Mean Absolute Error (MAE): 4.30\n",
      "Mean Absolute Percentage Error (MAPE): 7.12%\n",
      "R² Score: 0.6937\n"
     ]
    }
   ],
   "source": [
    "\"\"\"\n",
    "Train and evaluate an XGBoost regression model.\n",
    "\n",
    "The model is trained on the training set and evaluated on the test set using:\n",
    "- RMSE: Root Mean Squared Error\n",
    "- MSE: Mean Squared Error\n",
    "- MAE: Mean Absolute Error\n",
    "- MAPE: Mean Absolute Percentage Error\n",
    "- R²: Coefficient of Determination\n",
    "\"\"\"\n",
    "\n",
    "# Initialize XGBRegressor with a fixed random seed for reproducibility\n",
    "model = xgb.XGBRegressor(random_state=42)\n",
    "\n",
    "# Train the model on the training data\n",
    "model.fit(X_train, y_train)\n",
    "\n",
    "# Make predictions on the test set\n",
    "y_pred = model.predict(X_test)\n",
    "\n",
    "# Calculate evaluation metrics\n",
    "mse = mean_squared_error(y_test, y_pred)\n",
    "rmse = mse ** 0.5  \n",
    "r2 = r2_score(y_test, y_pred)  \n",
    "mae = mean_absolute_error(y_test, y_pred)  \n",
    "mape = np.mean(np.abs((y_test - y_pred) / y_test)) * 100  \n",
    "\n",
    "# Print evaluation results\n",
    "print(f\"Root Mean Square Error (RMSE): {rmse:.2f}\")\n",
    "print(f\"Mean Squared Error: {mse:.4f}\")\n",
    "print(f\"Mean Absolute Error (MAE): {mae:.2f}\")\n",
    "print(f\"Mean Absolute Percentage Error (MAPE): {mape:.2f}%\")\n",
    "print(f\"R² Score: {r2:.4f}\")\n"
   ]
  },
  {
   "cell_type": "markdown",
   "id": "f4db0903",
   "metadata": {},
   "source": [
    "#### Hyperparameter Tuning"
   ]
  },
  {
   "cell_type": "code",
   "execution_count": null,
   "id": "7782f826",
   "metadata": {},
   "outputs": [
    {
     "name": "stdout",
     "output_type": "stream",
     "text": [
      "Fitting 3 folds for each of 288 candidates, totalling 864 fits\n"
     ]
    }
   ],
   "source": [
    "\"\"\"\n",
    "Hyperparameter tuning for XGBoost using GridSearchCV.\n",
    "\n",
    "This script:\n",
    "- Defines a parameter grid\n",
    "- Performs grid search with cross-validation\n",
    "- Fits the best model\n",
    "- Evaluates the final model on the test set using key regression metrics\n",
    "\"\"\"\n",
    "\n",
    "from xgboost import XGBRegressor\n",
    "from sklearn.model_selection import GridSearchCV\n",
    "from sklearn.metrics import mean_squared_error, r2_score, mean_absolute_error\n",
    "import numpy as np\n",
    "\n",
    "# Define parameter grid\n",
    "param_grid = {\n",
    "    'n_estimators': [100, 300],\n",
    "    'max_depth': [3, 5, 7],\n",
    "    'learning_rate': [0.01, 0.05, 0.1],\n",
    "    'subsample': [0.8, 1],\n",
    "    'colsample_bytree': [0.8, 1],\n",
    "    'gamma': [0, 0.1],\n",
    "    'min_child_weight': [1, 3]\n",
    "}\n",
    "\n",
    "# Initialize base model\n",
    "xgb_model = XGBRegressor(random_state=42)\n",
    "\n",
    "# Set up GridSearchCV to find the best combination of hyperparameters\n",
    "grid_search = GridSearchCV(\n",
    "    estimator=xgb_model,\n",
    "    param_grid=param_grid,\n",
    "    scoring='neg_mean_squared_error', \n",
    "    cv=3,\n",
    "    verbose=1,\n",
    "    n_jobs=-1  \n",
    ")\n",
    "\n",
    "# Fit the model on the training data\n",
    "grid_search.fit(X_train, y_train)\n",
    "\n",
    "# Print best parameters found by grid search\n",
    "print(\"🔍 Best Parameters:\", grid_search.best_params_)\n",
    "\n",
    "# Extract the best model\n",
    "best_model = grid_search.best_estimator_\n",
    "\n",
    "# Make predictions on the test set\n",
    "y_pred = best_model.predict(X_test)\n",
    "\n",
    "# Calculate evaluation metrics\n",
    "mse = mean_squared_error(y_test, y_pred)\n",
    "rmse = mse ** 0.5  \n",
    "r2 = r2_score(y_test, y_pred)  \n",
    "mae = mean_absolute_error(y_test, y_pred)  \n",
    "# MAPE (handle zero division safely)\n",
    "mape = np.mean(np.abs((y_test - y_pred) / y_test.replace(0, 1e-10))) * 100\n",
    "\n",
    "# Print final evaluation results\n",
    "print(f\"\\n✅ Optimized XGBoost Results:\")\n",
    "print(f\"R² Score: {r2:.4f}\")\n",
    "print(f\"RMSE: {rmse:.2f}\")\n",
    "print(f\"MAE: {mae:.2f}\")\n",
    "print(f\"MAPE: {mape:.2f}%\")\n"
   ]
  },
  {
   "cell_type": "markdown",
   "id": "646c61b2",
   "metadata": {},
   "source": [
    "### LightGBM"
   ]
  },
  {
   "cell_type": "code",
   "execution_count": 6,
   "id": "d24327a4",
   "metadata": {},
   "outputs": [
    {
     "name": "stdout",
     "output_type": "stream",
     "text": [
      "[LightGBM] [Info] Auto-choosing row-wise multi-threading, the overhead of testing was 0.007810 seconds.\n",
      "You can set `force_row_wise=true` to remove the overhead.\n",
      "And if memory is not enough, you can set `force_col_wise=true`.\n",
      "[LightGBM] [Info] Total Bins 1599\n",
      "[LightGBM] [Info] Number of data points in the train set: 154851, number of used features: 31\n",
      "[LightGBM] [Info] Start training from score 60.049415\n",
      "\n",
      "🌿 LightGBM Results:\n",
      "R² Score: 0.6887\n",
      "RMSE: 6.57\n",
      "MAE: 4.39\n",
      "MAPE: 7.28%\n"
     ]
    }
   ],
   "source": [
    "\"\"\"\n",
    "Train and evaluate a LightGBM regression model on the test set.\n",
    "\n",
    "The model is assessed using:\n",
    "- R² Score\n",
    "- RMSE (Root Mean Squared Error)\n",
    "- MAE (Mean Absolute Error)\n",
    "- MAPE (Mean Absolute Percentage Error)\n",
    "\"\"\"\n",
    "def clean_column_names(df):\n",
    "    df.columns = df.columns.str.replace(r'[^A-Za-z0-9_]', '', regex=True)\n",
    "    return df\n",
    "\n",
    "X_trainL = clean_column_names(X_train)\n",
    "X_testL = clean_column_names(X_test)\n",
    "\n",
    "lgbm_model = LGBMRegressor(random_state=42)\n",
    "\n",
    "lgbm_model.fit(X_trainL, y_train)\n",
    "\n",
    "y_pred_lgbm = lgbm_model.predict(X_testL)\n",
    "\n",
    "# Calculate evaluation metrics\n",
    "r2_lgbm = r2_score(y_test, y_pred_lgbm)  \n",
    "mse_lgbm = mean_squared_error(y_test, y_pred_lgbm)\n",
    "rmse_lgbm = mse_lgbm ** 0.5 \n",
    "mae_lgbm = mean_absolute_error(y_test, y_pred_lgbm)  \n",
    "mape_lgbm = np.mean(np.abs((y_test - y_pred_lgbm) / y_test.replace(0, 1e-10))) * 100  \n",
    "\n",
    "# Print evaluation results\n",
    "print(\"\\n🌿 LightGBM Results:\")\n",
    "print(f\"R² Score: {r2_lgbm:.4f}\")\n",
    "print(f\"RMSE: {rmse_lgbm:.2f}\")\n",
    "print(f\"MAE: {mae_lgbm:.2f}\")\n",
    "print(f\"MAPE: {mape_lgbm:.2f}%\")\n"
   ]
  },
  {
   "cell_type": "markdown",
   "id": "34bbe9aa",
   "metadata": {},
   "source": [
    "#### Hyperparameter Tuning"
   ]
  },
  {
   "cell_type": "code",
   "execution_count": null,
   "id": "4e4789da",
   "metadata": {},
   "outputs": [
    {
     "name": "stdout",
     "output_type": "stream",
     "text": [
      "Fitting 3 folds for each of 30 candidates, totalling 90 fits\n",
      "[LightGBM] [Info] Auto-choosing row-wise multi-threading, the overhead of testing was 0.029234 seconds.\n",
      "You can set `force_row_wise=true` to remove the overhead.\n",
      "And if memory is not enough, you can set `force_col_wise=true`.\n",
      "[LightGBM] [Info] Total Bins 2109\n",
      "[LightGBM] [Info] Number of data points in the train set: 174207, number of used features: 33\n",
      "[LightGBM] [Info] Start training from score 60.068524\n",
      "\n",
      "🌿 Optimized LightGBM Results:\n",
      "Best Parameters: {'subsample': 1.0, 'reg_lambda': 0.5, 'reg_alpha': 0.5, 'num_leaves': 50, 'n_estimators': 300, 'max_depth': -1, 'learning_rate': 0.1, 'colsample_bytree': 1.0}\n",
      "R² Score: 0.7237\n",
      "RMSE: 6.18\n",
      "MAE: 3.98\n",
      "MAPE: 6.62%\n"
     ]
    }
   ],
   "source": [
    "param_dist = {\n",
    "    'n_estimators': [100, 300, 500],\n",
    "    'max_depth': [3, 5, 7, -1],\n",
    "    'learning_rate': [0.01, 0.05, 0.1],\n",
    "    'num_leaves': [20, 31, 50],\n",
    "    'subsample': [0.7, 0.8, 1.0],\n",
    "    'colsample_bytree': [0.7, 0.8, 1.0],\n",
    "    'reg_alpha': [0, 0.1, 0.5],\n",
    "    'reg_lambda': [0, 0.1, 0.5]\n",
    "}\n",
    "\n",
    "# Model\n",
    "lgbm_model = LGBMRegressor(random_state=42)\n",
    "\n",
    "# Randomized SearchCV\n",
    "random_search = RandomizedSearchCV(\n",
    "    estimator=lgbm_model,\n",
    "    param_distributions=param_dist,\n",
    "    n_iter=30,\n",
    "    scoring='neg_mean_squared_error',\n",
    "    cv=3,\n",
    "    verbose=1,\n",
    "    n_jobs=-1,\n",
    "    random_state=42\n",
    ")\n",
    "\n",
    "# Train\n",
    "random_search.fit(X_train, y_train)\n",
    "\n",
    "# Best Model\n",
    "best_lgbm = random_search.best_estimator_\n",
    "\n",
    "# Prediction\n",
    "y_pred_lgbm = best_lgbm.predict(X_test)\n",
    "\n",
    "# Metrics\n",
    "r2_lgbm = r2_score(y_test, y_pred_lgbm)\n",
    "mse_lgbm = mean_squared_error(y_test, y_pred_lgbm)\n",
    "rmse_lgbm = mse_lgbm ** 0.5 \n",
    "mae_lgbm = mean_absolute_error(y_test, y_pred_lgbm)\n",
    "mape_lgbm = np.mean(np.abs((y_test - y_pred_lgbm) / y_test.replace(0, 1e-10))) * 100\n",
    "\n",
    "# Results\n",
    "print(\"\\n🌿 Optimized LightGBM Results:\")\n",
    "print(\"Best Parameters:\", random_search.best_params_)\n",
    "print(f\"R² Score: {r2_lgbm:.4f}\")\n",
    "print(f\"RMSE: {rmse_lgbm:.2f}\")\n",
    "print(f\"MAE: {mae_lgbm:.2f}\")\n",
    "print(f\"MAPE: {mape_lgbm:.2f}%\")"
   ]
  }
 ],
 "metadata": {
  "kernelspec": {
   "display_name": "venv",
   "language": "python",
   "name": "python3"
  },
  "language_info": {
   "codemirror_mode": {
    "name": "ipython",
    "version": 3
   },
   "file_extension": ".py",
   "mimetype": "text/x-python",
   "name": "python",
   "nbconvert_exporter": "python",
   "pygments_lexer": "ipython3",
   "version": "3.13.0"
  }
 },
 "nbformat": 4,
 "nbformat_minor": 5
}
